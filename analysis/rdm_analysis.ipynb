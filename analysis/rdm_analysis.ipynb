{
 "cells": [
  {
   "cell_type": "code",
   "execution_count": null,
   "metadata": {},
   "outputs": [],
   "source": [
    "from vislearnlabpy.embeddings.embedding_store import EmbeddingStore\n",
    "from pathlib import Path\n",
    "embedding_dir = Path(\"../data/embeddings/\")\n",
    "cdm_store = EmbeddingStore.from_doc(str(embedding_dir / \"cdm_store\"))\n",
    "kisumu_store = EmbeddingStore.from_doc(str(embedding_dir / \"kisumu_store\"))\n",
    "beijing_store = EmbeddingStore.from_doc(str(embedding_dir / \"beijing_store\"))"
   ]
  },
  {
   "cell_type": "code",
   "execution_count": 3,
   "metadata": {},
   "outputs": [],
   "source": [
    "# example remapping back to url if needed\n",
    "#beijing_store.EmbeddingList.url = list(map(lambda p: f\"{file_dir}/{p}\", store.EmbeddingList.url))"
   ]
  },
  {
   "cell_type": "markdown",
   "metadata": {},
   "source": [
    "Plotting RDMs"
   ]
  },
  {
   "cell_type": "code",
   "execution_count": 4,
   "metadata": {},
   "outputs": [],
   "source": [
    "rdm_categories = [\"airplane\", \"bike\", \"car\", \"bird\", \"cat\", \"rabbit\", \"tree\", \"house\", \"chair\", \"cup\", \"hat\", \"watch\"]\n",
    "sorted_categories = sorted(rdm_categories)"
   ]
  },
  {
   "cell_type": "code",
   "execution_count": 5,
   "metadata": {},
   "outputs": [],
   "source": [
    "import matplotlib.pyplot as plt\n",
    "import seaborn as sns\n",
    "import numpy as np\n",
    "from vislearnlabpy.embeddings.similarity_utils import correlate_rdms\n",
    "\n",
    "def plot_heatmaps(matrices, categories, titles, corr_values=None, cmap=\"viridis\", vmin=None, vmax=None, figsize=(18,6), center=None, cbar=True, suptitle=None):\n",
    "    n = len(matrices)\n",
    "    fig, axs = plt.subplots(1, n, figsize=figsize)\n",
    "    if n == 1:\n",
    "        axs = [axs]\n",
    "    if vmin is None:\n",
    "        vmin = min(m.min() for m in matrices)\n",
    "    if vmax is None:\n",
    "        vmax = max(m.max() for m in matrices)\n",
    "    \n",
    "    for i, (mat, title) in enumerate(zip(matrices, titles)):\n",
    "        sns.heatmap(mat, ax=axs[i], xticklabels=categories, yticklabels=categories,\n",
    "                    cmap=cmap, vmin=vmin, vmax=vmax, center=center, cbar=cbar if i == n-1 else False)\n",
    "        corr_text = f\"\\nMean diagonal similarity: {corr_values[i]:.3f}\" if corr_values else \"\"\n",
    "        axs[i].set_title(title + corr_text)\n",
    "        if \" vs \" in title:\n",
    "            x_label, y_label = title.split(\" vs \")\n",
    "            axs[i].set_xlabel(x_label.strip())\n",
    "            axs[i].set_ylabel(y_label.strip())\n",
    "    if suptitle is not None:\n",
    "        fig.suptitle(suptitle, \n",
    "        fontsize=16\n",
    "        )\n",
    "    plt.tight_layout()\n",
    "    plt.show()\n",
    "    return fig"
   ]
  },
  {
   "cell_type": "code",
   "execution_count": null,
   "metadata": {},
   "outputs": [],
   "source": [
    "from vislearnlabpy.embeddings.similarity_utils import correlate_rdms\n",
    "\n",
    "# Compute the RDMs \n",
    "cdm_rdm = cdm_store.compute_text_rdm()\n",
    "beijing_rdm = beijing_store.compute_text_rdm()\n",
    "kisumu_rdm = kisumu_store.compute_text_rdm()\n",
    "\n",
    "# change ordering to create clusters: TODO: support custom ordering for our rdm functions\n",
    "reorder_idx = [sorted_categories.index(cat) for cat in rdm_categories]\n",
    "cdm_rdm, beijing_rdm, kisumu_rdm = [\n",
    "    rdm[np.ix_(reorder_idx, reorder_idx)] \n",
    "    for rdm in [cdm_rdm, beijing_rdm, kisumu_rdm]\n",
    "]\n",
    "\n",
    "# Compute correlations\n",
    "corr_beijing_kisumu = correlate_rdms(beijing_rdm, kisumu_rdm)\n",
    "corr_beijing_cdm = correlate_rdms(beijing_rdm, cdm_rdm)\n",
    "corr_kisumu_cdm = correlate_rdms(kisumu_rdm, cdm_rdm)\n",
    "\n",
    "fig = plot_heatmaps(\n",
    "    [beijing_rdm, kisumu_rdm, cdm_rdm],\n",
    "    categories=rdm_categories,\n",
    "    titles=[\"Beijing RDM\", \"Kisumu RDM\", \"San Jose RDM\"],\n",
    "    corr_values=None,\n",
    "    cmap=\"viridis\",\n",
    "    figsize=(17,6),\n",
    "    cbar=True,\n",
    "    suptitle= f\"RDM Pearson's correlations: darker colors indicate higher cosine similarity.\\nBeijing-Kisumu R={corr_beijing_kisumu:.3f} | \"\n",
    "    f\"Beijing-San Jose R={corr_beijing_cdm:.3f} | Kisumu-San Jose R={corr_kisumu_cdm:.3f}\"\n",
    ")\n",
    "fig.savefig(\"../data/figures/rdm_comparison.png\")"
   ]
  },
  {
   "cell_type": "code",
   "execution_count": null,
   "metadata": {},
   "outputs": [],
   "source": [
    "from vislearnlabpy.embeddings.similarity_utils import cosine_matrix\n",
    "\n",
    "def get_mean_embeddings(embedding_list, categories):\n",
    "    means = []\n",
    "    for cat in categories:\n",
    "        embeddings = [emb.embedding for emb in embedding_list if emb.text == cat]\n",
    "        if not embeddings:\n",
    "            means.append(np.zeros_like(embedding_list[0].embedding))  # or np.nan\n",
    "        else:\n",
    "            means.append(np.mean(embeddings, axis=0))\n",
    "    return np.stack(means)\n",
    "\n",
    "# Compute mean embeddings per category\n",
    "kisumu_means = get_mean_embeddings(kisumu_store.EmbeddingList, rdm_categories)\n",
    "beijing_means = get_mean_embeddings(beijing_store.EmbeddingList, rdm_categories)\n",
    "cdm_means = get_mean_embeddings(cdm_store.EmbeddingList, rdm_categories)\n",
    "\n",
    "# Compute similarity matrices (cosine similarity)\n",
    "sim_kisumu_beijing = 1 - cosine_matrix(kisumu_means, beijing_means)\n",
    "sim_kisumu_cdm = 1 - cosine_matrix(kisumu_means, cdm_means)\n",
    "sim_cdm_beijing = 1 - cosine_matrix(cdm_means, beijing_means)\n",
    "\n",
    "mean_diags = [1 - np.mean(np.diag(m)) for m in [sim_kisumu_beijing, sim_kisumu_cdm, sim_cdm_beijing]]\n",
    "\n",
    "fig = plot_heatmaps(\n",
    "    [sim_kisumu_beijing, sim_kisumu_cdm, sim_cdm_beijing],\n",
    "    categories=rdm_categories,\n",
    "    titles=[\"Kisumu vs Beijing\", \"Kisumu vs San Jose\", \"San Jose vs Beijing\"],\n",
    "    suptitle=\"Heatmap of cosine similarity of mean category embeddings between locations\",\n",
    "    corr_values=mean_diags,\n",
    "    cmap=\"magma\",\n",
    "    center=0,\n",
    "    figsize=(20,6),\n",
    "    cbar=True\n",
    ")\n",
    "fig.savefig(\"../data/figures/within_rdm_comparison.png\")"
   ]
  }
 ],
 "metadata": {
  "kernelspec": {
   "display_name": "vllpy_draw",
   "language": "python",
   "name": "python3"
  },
  "language_info": {
   "codemirror_mode": {
    "name": "ipython",
    "version": 3
   },
   "file_extension": ".py",
   "mimetype": "text/x-python",
   "name": "python",
   "nbconvert_exporter": "python",
   "pygments_lexer": "ipython3",
   "version": "3.11.13"
  }
 },
 "nbformat": 4,
 "nbformat_minor": 2
}
